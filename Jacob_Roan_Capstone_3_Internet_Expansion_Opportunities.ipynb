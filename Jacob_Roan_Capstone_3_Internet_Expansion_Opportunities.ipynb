{
  "nbformat": 4,
  "nbformat_minor": 0,
  "metadata": {
    "colab": {
      "name": "Jacob Roan - Capstone 3 - Internet Expansion Opportunities",
      "provenance": [],
      "collapsed_sections": [],
      "authorship_tag": "ABX9TyPA1w0LwKtblNrlskKqykyG",
      "include_colab_link": true
    },
    "kernelspec": {
      "name": "python3",
      "display_name": "Python 3"
    },
    "language_info": {
      "name": "python"
    }
  },
  "cells": [
    {
      "cell_type": "markdown",
      "metadata": {
        "id": "view-in-github",
        "colab_type": "text"
      },
      "source": [
        "<a href=\"https://colab.research.google.com/github/okiejake/worldwide-internet-statistics/blob/main/Jacob_Roan_Capstone_3_Internet_Expansion_Opportunities.ipynb\" target=\"_parent\"><img src=\"https://colab.research.google.com/assets/colab-badge.svg\" alt=\"Open In Colab\"/></a>"
      ]
    },
    {
      "cell_type": "markdown",
      "source": [
        "## Introduction\n",
        " \n",
        "My hypothetical scenario is as a data analyst for a large communications company I’m tasked with finding insights on mobile and fixed broadband speeds. The development of our technologies will be necessitated by which countries need it most. I also plan on determining if internet speed is correlated to economic growth.\n",
        " \n",
        " \n",
        "In this notebook I plan on reviewing data on mobile and wired broadband speed averages worldwide as well as the world's economy. Specifically I want to compare countries and draw conclusions on how internet quality affects these countries' economies.\n",
        " \n",
        "### About the data\n",
        " \n",
        "The speed data is taken from speedtest.nets Global Index. It only represents countries that had at least 300 unique user results for mobile or fixed broadband.\n",
        " \n",
        "The other dataset is a table of GDP per capita for each country. It includes data for most countries going all the way back to the 1950s but for our purposes I'll only be using the most recent year for now.\n",
        " \n",
        "### Why it matters\n",
        " \n",
        "This data will give us insight on how to expand to these countries, whether countries should care more about mobile or fixed broadband, and if our products can be viable in certain economies."
      ],
      "metadata": {
        "id": "3X_bELfSw9l3"
      }
    },
    {
      "cell_type": "markdown",
      "source": [
        "## Importin'"
      ],
      "metadata": {
        "id": "nbyYCJ25wUTo"
      }
    },
    {
      "cell_type": "code",
      "execution_count": null,
      "metadata": {
        "id": "1oL46p_UICMW",
        "colab": {
          "base_uri": "https://localhost:8080/"
        },
        "outputId": "b559119d-80fa-42dc-b38b-c12ee57feabe"
      },
      "outputs": [
        {
          "output_type": "stream",
          "name": "stdout",
          "text": [
            "Mounted at /content/gdrive/\n"
          ]
        }
      ],
      "source": [
        "import pandas as pd\n",
        "from google.colab import drive\n",
        "drive.mount('/content/gdrive/')"
      ]
    },
    {
      "cell_type": "code",
      "source": [
        "from matplotlib import pyplot as plt\n",
        "%matplotlib inline\n",
        "import seaborn as sns \n",
        "sns.set_theme(rc = {'figure.figsize':(14,9)})\n",
        "import numpy as np\n",
        "from scipy import stats\n",
        "import matplotlib.patches as mpatches"
      ],
      "metadata": {
        "id": "MDWM7R_CCv75"
      },
      "execution_count": null,
      "outputs": []
    },
    {
      "cell_type": "markdown",
      "source": [
        "## Wranglin'"
      ],
      "metadata": {
        "id": "PYBq24QbwdCK"
      }
    },
    {
      "cell_type": "markdown",
      "source": [
        "### Mobile data download speeds"
      ],
      "metadata": {
        "id": "lb4CU8S0JZZI"
      }
    },
    {
      "cell_type": "code",
      "source": [
        "mobileDF = pd.read_html('https://www.speedtest.net/global-index') [2]\n",
        "\n",
        "mobileDF = mobileDF.dropna(how='all', axis=0).drop(['#.1'], axis=1)\n",
        "\n",
        "mobileDF.drop(mobileDF.iloc[:, 0:1], inplace = True, axis = 1)\n",
        "mobileDF"
      ],
      "metadata": {
        "colab": {
          "base_uri": "https://localhost:8080/",
          "height": 419
        },
        "id": "GGc5aNziIMpM",
        "outputId": "0c5d7271-dc0d-4ab7-a02e-8f9ff6170c36"
      },
      "execution_count": null,
      "outputs": [
        {
          "output_type": "execute_result",
          "data": {
            "text/plain": [
              "                  Country    Mbps\n",
              "0    United Arab Emirates  133.51\n",
              "2                  Norway  118.58\n",
              "4             South Korea  116.51\n",
              "6                   Qatar  113.00\n",
              "8             Netherlands  107.81\n",
              "..                    ...     ...\n",
              "266               Somalia    7.74\n",
              "268                 Sudan    6.81\n",
              "270             Venezuela    5.98\n",
              "272           Afghanistan    5.39\n",
              "274             Palestine    5.34\n",
              "\n",
              "[138 rows x 2 columns]"
            ],
            "text/html": [
              "\n",
              "  <div id=\"df-cf14189b-0403-4423-ba94-3854068535fa\">\n",
              "    <div class=\"colab-df-container\">\n",
              "      <div>\n",
              "<style scoped>\n",
              "    .dataframe tbody tr th:only-of-type {\n",
              "        vertical-align: middle;\n",
              "    }\n",
              "\n",
              "    .dataframe tbody tr th {\n",
              "        vertical-align: top;\n",
              "    }\n",
              "\n",
              "    .dataframe thead th {\n",
              "        text-align: right;\n",
              "    }\n",
              "</style>\n",
              "<table border=\"1\" class=\"dataframe\">\n",
              "  <thead>\n",
              "    <tr style=\"text-align: right;\">\n",
              "      <th></th>\n",
              "      <th>Country</th>\n",
              "      <th>Mbps</th>\n",
              "    </tr>\n",
              "  </thead>\n",
              "  <tbody>\n",
              "    <tr>\n",
              "      <th>0</th>\n",
              "      <td>United Arab Emirates</td>\n",
              "      <td>133.51</td>\n",
              "    </tr>\n",
              "    <tr>\n",
              "      <th>2</th>\n",
              "      <td>Norway</td>\n",
              "      <td>118.58</td>\n",
              "    </tr>\n",
              "    <tr>\n",
              "      <th>4</th>\n",
              "      <td>South Korea</td>\n",
              "      <td>116.51</td>\n",
              "    </tr>\n",
              "    <tr>\n",
              "      <th>6</th>\n",
              "      <td>Qatar</td>\n",
              "      <td>113.00</td>\n",
              "    </tr>\n",
              "    <tr>\n",
              "      <th>8</th>\n",
              "      <td>Netherlands</td>\n",
              "      <td>107.81</td>\n",
              "    </tr>\n",
              "    <tr>\n",
              "      <th>...</th>\n",
              "      <td>...</td>\n",
              "      <td>...</td>\n",
              "    </tr>\n",
              "    <tr>\n",
              "      <th>266</th>\n",
              "      <td>Somalia</td>\n",
              "      <td>7.74</td>\n",
              "    </tr>\n",
              "    <tr>\n",
              "      <th>268</th>\n",
              "      <td>Sudan</td>\n",
              "      <td>6.81</td>\n",
              "    </tr>\n",
              "    <tr>\n",
              "      <th>270</th>\n",
              "      <td>Venezuela</td>\n",
              "      <td>5.98</td>\n",
              "    </tr>\n",
              "    <tr>\n",
              "      <th>272</th>\n",
              "      <td>Afghanistan</td>\n",
              "      <td>5.39</td>\n",
              "    </tr>\n",
              "    <tr>\n",
              "      <th>274</th>\n",
              "      <td>Palestine</td>\n",
              "      <td>5.34</td>\n",
              "    </tr>\n",
              "  </tbody>\n",
              "</table>\n",
              "<p>138 rows × 2 columns</p>\n",
              "</div>\n",
              "      <button class=\"colab-df-convert\" onclick=\"convertToInteractive('df-cf14189b-0403-4423-ba94-3854068535fa')\"\n",
              "              title=\"Convert this dataframe to an interactive table.\"\n",
              "              style=\"display:none;\">\n",
              "        \n",
              "  <svg xmlns=\"http://www.w3.org/2000/svg\" height=\"24px\"viewBox=\"0 0 24 24\"\n",
              "       width=\"24px\">\n",
              "    <path d=\"M0 0h24v24H0V0z\" fill=\"none\"/>\n",
              "    <path d=\"M18.56 5.44l.94 2.06.94-2.06 2.06-.94-2.06-.94-.94-2.06-.94 2.06-2.06.94zm-11 1L8.5 8.5l.94-2.06 2.06-.94-2.06-.94L8.5 2.5l-.94 2.06-2.06.94zm10 10l.94 2.06.94-2.06 2.06-.94-2.06-.94-.94-2.06-.94 2.06-2.06.94z\"/><path d=\"M17.41 7.96l-1.37-1.37c-.4-.4-.92-.59-1.43-.59-.52 0-1.04.2-1.43.59L10.3 9.45l-7.72 7.72c-.78.78-.78 2.05 0 2.83L4 21.41c.39.39.9.59 1.41.59.51 0 1.02-.2 1.41-.59l7.78-7.78 2.81-2.81c.8-.78.8-2.07 0-2.86zM5.41 20L4 18.59l7.72-7.72 1.47 1.35L5.41 20z\"/>\n",
              "  </svg>\n",
              "      </button>\n",
              "      \n",
              "  <style>\n",
              "    .colab-df-container {\n",
              "      display:flex;\n",
              "      flex-wrap:wrap;\n",
              "      gap: 12px;\n",
              "    }\n",
              "\n",
              "    .colab-df-convert {\n",
              "      background-color: #E8F0FE;\n",
              "      border: none;\n",
              "      border-radius: 50%;\n",
              "      cursor: pointer;\n",
              "      display: none;\n",
              "      fill: #1967D2;\n",
              "      height: 32px;\n",
              "      padding: 0 0 0 0;\n",
              "      width: 32px;\n",
              "    }\n",
              "\n",
              "    .colab-df-convert:hover {\n",
              "      background-color: #E2EBFA;\n",
              "      box-shadow: 0px 1px 2px rgba(60, 64, 67, 0.3), 0px 1px 3px 1px rgba(60, 64, 67, 0.15);\n",
              "      fill: #174EA6;\n",
              "    }\n",
              "\n",
              "    [theme=dark] .colab-df-convert {\n",
              "      background-color: #3B4455;\n",
              "      fill: #D2E3FC;\n",
              "    }\n",
              "\n",
              "    [theme=dark] .colab-df-convert:hover {\n",
              "      background-color: #434B5C;\n",
              "      box-shadow: 0px 1px 3px 1px rgba(0, 0, 0, 0.15);\n",
              "      filter: drop-shadow(0px 1px 2px rgba(0, 0, 0, 0.3));\n",
              "      fill: #FFFFFF;\n",
              "    }\n",
              "  </style>\n",
              "\n",
              "      <script>\n",
              "        const buttonEl =\n",
              "          document.querySelector('#df-cf14189b-0403-4423-ba94-3854068535fa button.colab-df-convert');\n",
              "        buttonEl.style.display =\n",
              "          google.colab.kernel.accessAllowed ? 'block' : 'none';\n",
              "\n",
              "        async function convertToInteractive(key) {\n",
              "          const element = document.querySelector('#df-cf14189b-0403-4423-ba94-3854068535fa');\n",
              "          const dataTable =\n",
              "            await google.colab.kernel.invokeFunction('convertToInteractive',\n",
              "                                                     [key], {});\n",
              "          if (!dataTable) return;\n",
              "\n",
              "          const docLinkHtml = 'Like what you see? Visit the ' +\n",
              "            '<a target=\"_blank\" href=https://colab.research.google.com/notebooks/data_table.ipynb>data table notebook</a>'\n",
              "            + ' to learn more about interactive tables.';\n",
              "          element.innerHTML = '';\n",
              "          dataTable['output_type'] = 'display_data';\n",
              "          await google.colab.output.renderOutput(dataTable, element);\n",
              "          const docLink = document.createElement('div');\n",
              "          docLink.innerHTML = docLinkHtml;\n",
              "          element.appendChild(docLink);\n",
              "        }\n",
              "      </script>\n",
              "    </div>\n",
              "  </div>\n",
              "  "
            ]
          },
          "metadata": {},
          "execution_count": 4
        }
      ]
    },
    {
      "cell_type": "markdown",
      "source": [
        "### Fixed broadband (wired) data download speeds"
      ],
      "metadata": {
        "id": "ARcKwxTMJkpd"
      }
    },
    {
      "cell_type": "code",
      "source": [
        "wiredDF = pd.read_html('https://www.speedtest.net/global-index') [3]\n",
        "\n",
        "wiredDF = wiredDF.dropna(how='all', axis=0).drop(['#.1'], axis=1)\n",
        "\n",
        "wiredDF.drop(wiredDF.iloc[:, 0:1], inplace = True, axis = 1)\n",
        "\n",
        "wiredDF"
      ],
      "metadata": {
        "id": "FnRWVgi4In0W",
        "colab": {
          "base_uri": "https://localhost:8080/",
          "height": 419
        },
        "outputId": "17b95517-02cb-4cbd-f45d-bd7f66f811a6"
      },
      "execution_count": null,
      "outputs": [
        {
          "output_type": "execute_result",
          "data": {
            "text/plain": [
              "          Country    Mbps\n",
              "0           Chile  197.59\n",
              "2       Singapore  194.07\n",
              "4          Monaco  188.66\n",
              "6        Thailand  182.96\n",
              "8         Denmark  164.14\n",
              "..            ...     ...\n",
              "350         Syria    2.95\n",
              "352         Yemen    2.63\n",
              "354  Turkmenistan    2.05\n",
              "356          Cuba    1.91\n",
              "358   Afghanistan    1.63\n",
              "\n",
              "[180 rows x 2 columns]"
            ],
            "text/html": [
              "\n",
              "  <div id=\"df-0e01c7b6-fe3d-49b2-a317-c1cd69726198\">\n",
              "    <div class=\"colab-df-container\">\n",
              "      <div>\n",
              "<style scoped>\n",
              "    .dataframe tbody tr th:only-of-type {\n",
              "        vertical-align: middle;\n",
              "    }\n",
              "\n",
              "    .dataframe tbody tr th {\n",
              "        vertical-align: top;\n",
              "    }\n",
              "\n",
              "    .dataframe thead th {\n",
              "        text-align: right;\n",
              "    }\n",
              "</style>\n",
              "<table border=\"1\" class=\"dataframe\">\n",
              "  <thead>\n",
              "    <tr style=\"text-align: right;\">\n",
              "      <th></th>\n",
              "      <th>Country</th>\n",
              "      <th>Mbps</th>\n",
              "    </tr>\n",
              "  </thead>\n",
              "  <tbody>\n",
              "    <tr>\n",
              "      <th>0</th>\n",
              "      <td>Chile</td>\n",
              "      <td>197.59</td>\n",
              "    </tr>\n",
              "    <tr>\n",
              "      <th>2</th>\n",
              "      <td>Singapore</td>\n",
              "      <td>194.07</td>\n",
              "    </tr>\n",
              "    <tr>\n",
              "      <th>4</th>\n",
              "      <td>Monaco</td>\n",
              "      <td>188.66</td>\n",
              "    </tr>\n",
              "    <tr>\n",
              "      <th>6</th>\n",
              "      <td>Thailand</td>\n",
              "      <td>182.96</td>\n",
              "    </tr>\n",
              "    <tr>\n",
              "      <th>8</th>\n",
              "      <td>Denmark</td>\n",
              "      <td>164.14</td>\n",
              "    </tr>\n",
              "    <tr>\n",
              "      <th>...</th>\n",
              "      <td>...</td>\n",
              "      <td>...</td>\n",
              "    </tr>\n",
              "    <tr>\n",
              "      <th>350</th>\n",
              "      <td>Syria</td>\n",
              "      <td>2.95</td>\n",
              "    </tr>\n",
              "    <tr>\n",
              "      <th>352</th>\n",
              "      <td>Yemen</td>\n",
              "      <td>2.63</td>\n",
              "    </tr>\n",
              "    <tr>\n",
              "      <th>354</th>\n",
              "      <td>Turkmenistan</td>\n",
              "      <td>2.05</td>\n",
              "    </tr>\n",
              "    <tr>\n",
              "      <th>356</th>\n",
              "      <td>Cuba</td>\n",
              "      <td>1.91</td>\n",
              "    </tr>\n",
              "    <tr>\n",
              "      <th>358</th>\n",
              "      <td>Afghanistan</td>\n",
              "      <td>1.63</td>\n",
              "    </tr>\n",
              "  </tbody>\n",
              "</table>\n",
              "<p>180 rows × 2 columns</p>\n",
              "</div>\n",
              "      <button class=\"colab-df-convert\" onclick=\"convertToInteractive('df-0e01c7b6-fe3d-49b2-a317-c1cd69726198')\"\n",
              "              title=\"Convert this dataframe to an interactive table.\"\n",
              "              style=\"display:none;\">\n",
              "        \n",
              "  <svg xmlns=\"http://www.w3.org/2000/svg\" height=\"24px\"viewBox=\"0 0 24 24\"\n",
              "       width=\"24px\">\n",
              "    <path d=\"M0 0h24v24H0V0z\" fill=\"none\"/>\n",
              "    <path d=\"M18.56 5.44l.94 2.06.94-2.06 2.06-.94-2.06-.94-.94-2.06-.94 2.06-2.06.94zm-11 1L8.5 8.5l.94-2.06 2.06-.94-2.06-.94L8.5 2.5l-.94 2.06-2.06.94zm10 10l.94 2.06.94-2.06 2.06-.94-2.06-.94-.94-2.06-.94 2.06-2.06.94z\"/><path d=\"M17.41 7.96l-1.37-1.37c-.4-.4-.92-.59-1.43-.59-.52 0-1.04.2-1.43.59L10.3 9.45l-7.72 7.72c-.78.78-.78 2.05 0 2.83L4 21.41c.39.39.9.59 1.41.59.51 0 1.02-.2 1.41-.59l7.78-7.78 2.81-2.81c.8-.78.8-2.07 0-2.86zM5.41 20L4 18.59l7.72-7.72 1.47 1.35L5.41 20z\"/>\n",
              "  </svg>\n",
              "      </button>\n",
              "      \n",
              "  <style>\n",
              "    .colab-df-container {\n",
              "      display:flex;\n",
              "      flex-wrap:wrap;\n",
              "      gap: 12px;\n",
              "    }\n",
              "\n",
              "    .colab-df-convert {\n",
              "      background-color: #E8F0FE;\n",
              "      border: none;\n",
              "      border-radius: 50%;\n",
              "      cursor: pointer;\n",
              "      display: none;\n",
              "      fill: #1967D2;\n",
              "      height: 32px;\n",
              "      padding: 0 0 0 0;\n",
              "      width: 32px;\n",
              "    }\n",
              "\n",
              "    .colab-df-convert:hover {\n",
              "      background-color: #E2EBFA;\n",
              "      box-shadow: 0px 1px 2px rgba(60, 64, 67, 0.3), 0px 1px 3px 1px rgba(60, 64, 67, 0.15);\n",
              "      fill: #174EA6;\n",
              "    }\n",
              "\n",
              "    [theme=dark] .colab-df-convert {\n",
              "      background-color: #3B4455;\n",
              "      fill: #D2E3FC;\n",
              "    }\n",
              "\n",
              "    [theme=dark] .colab-df-convert:hover {\n",
              "      background-color: #434B5C;\n",
              "      box-shadow: 0px 1px 3px 1px rgba(0, 0, 0, 0.15);\n",
              "      filter: drop-shadow(0px 1px 2px rgba(0, 0, 0, 0.3));\n",
              "      fill: #FFFFFF;\n",
              "    }\n",
              "  </style>\n",
              "\n",
              "      <script>\n",
              "        const buttonEl =\n",
              "          document.querySelector('#df-0e01c7b6-fe3d-49b2-a317-c1cd69726198 button.colab-df-convert');\n",
              "        buttonEl.style.display =\n",
              "          google.colab.kernel.accessAllowed ? 'block' : 'none';\n",
              "\n",
              "        async function convertToInteractive(key) {\n",
              "          const element = document.querySelector('#df-0e01c7b6-fe3d-49b2-a317-c1cd69726198');\n",
              "          const dataTable =\n",
              "            await google.colab.kernel.invokeFunction('convertToInteractive',\n",
              "                                                     [key], {});\n",
              "          if (!dataTable) return;\n",
              "\n",
              "          const docLinkHtml = 'Like what you see? Visit the ' +\n",
              "            '<a target=\"_blank\" href=https://colab.research.google.com/notebooks/data_table.ipynb>data table notebook</a>'\n",
              "            + ' to learn more about interactive tables.';\n",
              "          element.innerHTML = '';\n",
              "          dataTable['output_type'] = 'display_data';\n",
              "          await google.colab.output.renderOutput(dataTable, element);\n",
              "          const docLink = document.createElement('div');\n",
              "          docLink.innerHTML = docLinkHtml;\n",
              "          element.appendChild(docLink);\n",
              "        }\n",
              "      </script>\n",
              "    </div>\n",
              "  </div>\n",
              "  "
            ]
          },
          "metadata": {},
          "execution_count": 18
        }
      ]
    },
    {
      "cell_type": "markdown",
      "source": [
        "### GDP by year for each country"
      ],
      "metadata": {
        "id": "SfQ0dF52w65u"
      }
    },
    {
      "cell_type": "code",
      "source": [
        "gdpDF = pd.read_csv('/content/gdrive/My Drive/Thinkful/Capstone 3/Raw data/gdp-per-capita-maddison-2020.csv')\n",
        "\n",
        "# keep only rows after 1990\n",
        "gdpDF = gdpDF[gdpDF.Year >= 1990]\n",
        "\n",
        "# pivot to wide data\n",
        "gdpFull= gdpDF.pivot_table(index='Entity', columns='Year', values='GDP per capita')\n",
        "\n",
        "gdpFull"
      ],
      "metadata": {
        "colab": {
          "base_uri": "https://localhost:8080/",
          "height": 531
        },
        "id": "UYsnYhOAfjeb",
        "outputId": "bd1f7a53-8fc1-4388-bc4c-1fc673d61dec"
      },
      "execution_count": null,
      "outputs": [
        {
          "output_type": "execute_result",
          "data": {
            "text/plain": [
              "Year                   1990      1991      1992      1993      1994      1995  \\\n",
              "Entity                                                                          \n",
              "Afghanistan          963.00    881.17    843.88    578.40    428.42    632.94   \n",
              "Albania             3983.00   2942.10   2841.77   3137.02   3399.71   3666.65   \n",
              "Algeria             4697.00   4708.23   4850.22   4816.92   4856.99   5142.38   \n",
              "Angola              1384.00   1437.15   1389.33   1080.48   1120.85   1319.16   \n",
              "Argentina          10254.00  11223.98  12267.08  12926.79  13571.38  13086.04   \n",
              "...                     ...       ...       ...       ...       ...       ...   \n",
              "Western Offshoots  35619.38       NaN       NaN       NaN       NaN       NaN   \n",
              "World               8222.48       NaN       NaN       NaN       NaN       NaN   \n",
              "Yemen               3622.00   3661.92   3759.72   3712.34   3775.07   3823.32   \n",
              "Zambia              1285.00   1279.75   1308.85   1312.34   1142.20   1180.94   \n",
              "Zimbabwe            2160.00   2222.26   1971.45   1948.91   2110.71   2102.86   \n",
              "\n",
              "Year                   1996      1997      1998      1999  ...      2009  \\\n",
              "Entity                                                     ...             \n",
              "Afghanistan          600.18    570.60    545.04    518.66  ...   1557.32   \n",
              "Albania             3965.69   3526.99   3873.37   4432.04  ...   8859.47   \n",
              "Algeria             5451.63   5638.48   6069.78   6421.51  ...  11907.02   \n",
              "Angola              1533.98   1687.32   1811.17   1899.42  ...   7087.60   \n",
              "Argentina          13715.23  14722.65  15185.96  14577.83  ...  17328.98   \n",
              "...                     ...       ...       ...       ...  ...       ...   \n",
              "Western Offshoots       NaN       NaN       NaN       NaN  ...       NaN   \n",
              "World                   NaN       NaN       NaN       NaN  ...       NaN   \n",
              "Yemen               3855.57   3927.68   4044.15   4080.22  ...   4593.54   \n",
              "Zambia              1260.73   1311.36   1308.95   1373.85  ...   2743.32   \n",
              "Zimbabwe            2292.49   2326.54   2369.02   2323.01  ...   1285.05   \n",
              "\n",
              "Year                   2010     2011     2012     2013     2014     2015  \\\n",
              "Entity                                                                     \n",
              "Afghanistan         1627.67   1792.0   1945.0   2025.0   2022.0   1928.0   \n",
              "Albania             9222.97   9484.0   9592.0   9660.0   9808.0  10032.0   \n",
              "Algeria            12587.74  13204.0  13379.0  13494.0  13744.0  14004.0   \n",
              "Angola              7520.67   8016.0   8190.0   8508.0   8673.0   8689.0   \n",
              "Argentina          18979.99  20003.0  19599.0  19873.0  19183.0  19502.0   \n",
              "...                     ...      ...      ...      ...      ...      ...   \n",
              "Western Offshoots  48090.15      NaN      NaN      NaN      NaN      NaN   \n",
              "World              13179.50      NaN      NaN      NaN      NaN      NaN   \n",
              "Yemen               4812.35   4088.0   4077.0   4165.0   4054.0   2844.0   \n",
              "Zambia              3032.07   3205.0   3350.0   3419.0   3478.0   3478.0   \n",
              "Zimbabwe            1401.86   1515.0   1604.0   1604.0   1594.0   1560.0   \n",
              "\n",
              "Year                   2016      2017      2018  \n",
              "Entity                                           \n",
              "Afghanistan         1929.00   2014.75   1934.56  \n",
              "Albania            10342.00  10702.12  11104.17  \n",
              "Algeria            14331.00  14267.23  14228.03  \n",
              "Angola              8453.00   8146.44   7771.44  \n",
              "Argentina          18875.00  19200.91  18556.38  \n",
              "...                     ...       ...       ...  \n",
              "Western Offshoots  51667.98  52597.22  53756.50  \n",
              "World              14700.37  14944.09  15212.42  \n",
              "Yemen               2506.00   2321.92   2284.89  \n",
              "Zambia              3479.00   3497.58   3534.03  \n",
              "Zimbabwe            1534.00   1582.37   1611.41  \n",
              "\n",
              "[178 rows x 29 columns]"
            ],
            "text/html": [
              "\n",
              "  <div id=\"df-d982ed59-a964-413c-abef-4c07117bcf29\">\n",
              "    <div class=\"colab-df-container\">\n",
              "      <div>\n",
              "<style scoped>\n",
              "    .dataframe tbody tr th:only-of-type {\n",
              "        vertical-align: middle;\n",
              "    }\n",
              "\n",
              "    .dataframe tbody tr th {\n",
              "        vertical-align: top;\n",
              "    }\n",
              "\n",
              "    .dataframe thead th {\n",
              "        text-align: right;\n",
              "    }\n",
              "</style>\n",
              "<table border=\"1\" class=\"dataframe\">\n",
              "  <thead>\n",
              "    <tr style=\"text-align: right;\">\n",
              "      <th>Year</th>\n",
              "      <th>1990</th>\n",
              "      <th>1991</th>\n",
              "      <th>1992</th>\n",
              "      <th>1993</th>\n",
              "      <th>1994</th>\n",
              "      <th>1995</th>\n",
              "      <th>1996</th>\n",
              "      <th>1997</th>\n",
              "      <th>1998</th>\n",
              "      <th>1999</th>\n",
              "      <th>...</th>\n",
              "      <th>2009</th>\n",
              "      <th>2010</th>\n",
              "      <th>2011</th>\n",
              "      <th>2012</th>\n",
              "      <th>2013</th>\n",
              "      <th>2014</th>\n",
              "      <th>2015</th>\n",
              "      <th>2016</th>\n",
              "      <th>2017</th>\n",
              "      <th>2018</th>\n",
              "    </tr>\n",
              "    <tr>\n",
              "      <th>Entity</th>\n",
              "      <th></th>\n",
              "      <th></th>\n",
              "      <th></th>\n",
              "      <th></th>\n",
              "      <th></th>\n",
              "      <th></th>\n",
              "      <th></th>\n",
              "      <th></th>\n",
              "      <th></th>\n",
              "      <th></th>\n",
              "      <th></th>\n",
              "      <th></th>\n",
              "      <th></th>\n",
              "      <th></th>\n",
              "      <th></th>\n",
              "      <th></th>\n",
              "      <th></th>\n",
              "      <th></th>\n",
              "      <th></th>\n",
              "      <th></th>\n",
              "      <th></th>\n",
              "    </tr>\n",
              "  </thead>\n",
              "  <tbody>\n",
              "    <tr>\n",
              "      <th>Afghanistan</th>\n",
              "      <td>963.00</td>\n",
              "      <td>881.17</td>\n",
              "      <td>843.88</td>\n",
              "      <td>578.40</td>\n",
              "      <td>428.42</td>\n",
              "      <td>632.94</td>\n",
              "      <td>600.18</td>\n",
              "      <td>570.60</td>\n",
              "      <td>545.04</td>\n",
              "      <td>518.66</td>\n",
              "      <td>...</td>\n",
              "      <td>1557.32</td>\n",
              "      <td>1627.67</td>\n",
              "      <td>1792.0</td>\n",
              "      <td>1945.0</td>\n",
              "      <td>2025.0</td>\n",
              "      <td>2022.0</td>\n",
              "      <td>1928.0</td>\n",
              "      <td>1929.00</td>\n",
              "      <td>2014.75</td>\n",
              "      <td>1934.56</td>\n",
              "    </tr>\n",
              "    <tr>\n",
              "      <th>Albania</th>\n",
              "      <td>3983.00</td>\n",
              "      <td>2942.10</td>\n",
              "      <td>2841.77</td>\n",
              "      <td>3137.02</td>\n",
              "      <td>3399.71</td>\n",
              "      <td>3666.65</td>\n",
              "      <td>3965.69</td>\n",
              "      <td>3526.99</td>\n",
              "      <td>3873.37</td>\n",
              "      <td>4432.04</td>\n",
              "      <td>...</td>\n",
              "      <td>8859.47</td>\n",
              "      <td>9222.97</td>\n",
              "      <td>9484.0</td>\n",
              "      <td>9592.0</td>\n",
              "      <td>9660.0</td>\n",
              "      <td>9808.0</td>\n",
              "      <td>10032.0</td>\n",
              "      <td>10342.00</td>\n",
              "      <td>10702.12</td>\n",
              "      <td>11104.17</td>\n",
              "    </tr>\n",
              "    <tr>\n",
              "      <th>Algeria</th>\n",
              "      <td>4697.00</td>\n",
              "      <td>4708.23</td>\n",
              "      <td>4850.22</td>\n",
              "      <td>4816.92</td>\n",
              "      <td>4856.99</td>\n",
              "      <td>5142.38</td>\n",
              "      <td>5451.63</td>\n",
              "      <td>5638.48</td>\n",
              "      <td>6069.78</td>\n",
              "      <td>6421.51</td>\n",
              "      <td>...</td>\n",
              "      <td>11907.02</td>\n",
              "      <td>12587.74</td>\n",
              "      <td>13204.0</td>\n",
              "      <td>13379.0</td>\n",
              "      <td>13494.0</td>\n",
              "      <td>13744.0</td>\n",
              "      <td>14004.0</td>\n",
              "      <td>14331.00</td>\n",
              "      <td>14267.23</td>\n",
              "      <td>14228.03</td>\n",
              "    </tr>\n",
              "    <tr>\n",
              "      <th>Angola</th>\n",
              "      <td>1384.00</td>\n",
              "      <td>1437.15</td>\n",
              "      <td>1389.33</td>\n",
              "      <td>1080.48</td>\n",
              "      <td>1120.85</td>\n",
              "      <td>1319.16</td>\n",
              "      <td>1533.98</td>\n",
              "      <td>1687.32</td>\n",
              "      <td>1811.17</td>\n",
              "      <td>1899.42</td>\n",
              "      <td>...</td>\n",
              "      <td>7087.60</td>\n",
              "      <td>7520.67</td>\n",
              "      <td>8016.0</td>\n",
              "      <td>8190.0</td>\n",
              "      <td>8508.0</td>\n",
              "      <td>8673.0</td>\n",
              "      <td>8689.0</td>\n",
              "      <td>8453.00</td>\n",
              "      <td>8146.44</td>\n",
              "      <td>7771.44</td>\n",
              "    </tr>\n",
              "    <tr>\n",
              "      <th>Argentina</th>\n",
              "      <td>10254.00</td>\n",
              "      <td>11223.98</td>\n",
              "      <td>12267.08</td>\n",
              "      <td>12926.79</td>\n",
              "      <td>13571.38</td>\n",
              "      <td>13086.04</td>\n",
              "      <td>13715.23</td>\n",
              "      <td>14722.65</td>\n",
              "      <td>15185.96</td>\n",
              "      <td>14577.83</td>\n",
              "      <td>...</td>\n",
              "      <td>17328.98</td>\n",
              "      <td>18979.99</td>\n",
              "      <td>20003.0</td>\n",
              "      <td>19599.0</td>\n",
              "      <td>19873.0</td>\n",
              "      <td>19183.0</td>\n",
              "      <td>19502.0</td>\n",
              "      <td>18875.00</td>\n",
              "      <td>19200.91</td>\n",
              "      <td>18556.38</td>\n",
              "    </tr>\n",
              "    <tr>\n",
              "      <th>...</th>\n",
              "      <td>...</td>\n",
              "      <td>...</td>\n",
              "      <td>...</td>\n",
              "      <td>...</td>\n",
              "      <td>...</td>\n",
              "      <td>...</td>\n",
              "      <td>...</td>\n",
              "      <td>...</td>\n",
              "      <td>...</td>\n",
              "      <td>...</td>\n",
              "      <td>...</td>\n",
              "      <td>...</td>\n",
              "      <td>...</td>\n",
              "      <td>...</td>\n",
              "      <td>...</td>\n",
              "      <td>...</td>\n",
              "      <td>...</td>\n",
              "      <td>...</td>\n",
              "      <td>...</td>\n",
              "      <td>...</td>\n",
              "      <td>...</td>\n",
              "    </tr>\n",
              "    <tr>\n",
              "      <th>Western Offshoots</th>\n",
              "      <td>35619.38</td>\n",
              "      <td>NaN</td>\n",
              "      <td>NaN</td>\n",
              "      <td>NaN</td>\n",
              "      <td>NaN</td>\n",
              "      <td>NaN</td>\n",
              "      <td>NaN</td>\n",
              "      <td>NaN</td>\n",
              "      <td>NaN</td>\n",
              "      <td>NaN</td>\n",
              "      <td>...</td>\n",
              "      <td>NaN</td>\n",
              "      <td>48090.15</td>\n",
              "      <td>NaN</td>\n",
              "      <td>NaN</td>\n",
              "      <td>NaN</td>\n",
              "      <td>NaN</td>\n",
              "      <td>NaN</td>\n",
              "      <td>51667.98</td>\n",
              "      <td>52597.22</td>\n",
              "      <td>53756.50</td>\n",
              "    </tr>\n",
              "    <tr>\n",
              "      <th>World</th>\n",
              "      <td>8222.48</td>\n",
              "      <td>NaN</td>\n",
              "      <td>NaN</td>\n",
              "      <td>NaN</td>\n",
              "      <td>NaN</td>\n",
              "      <td>NaN</td>\n",
              "      <td>NaN</td>\n",
              "      <td>NaN</td>\n",
              "      <td>NaN</td>\n",
              "      <td>NaN</td>\n",
              "      <td>...</td>\n",
              "      <td>NaN</td>\n",
              "      <td>13179.50</td>\n",
              "      <td>NaN</td>\n",
              "      <td>NaN</td>\n",
              "      <td>NaN</td>\n",
              "      <td>NaN</td>\n",
              "      <td>NaN</td>\n",
              "      <td>14700.37</td>\n",
              "      <td>14944.09</td>\n",
              "      <td>15212.42</td>\n",
              "    </tr>\n",
              "    <tr>\n",
              "      <th>Yemen</th>\n",
              "      <td>3622.00</td>\n",
              "      <td>3661.92</td>\n",
              "      <td>3759.72</td>\n",
              "      <td>3712.34</td>\n",
              "      <td>3775.07</td>\n",
              "      <td>3823.32</td>\n",
              "      <td>3855.57</td>\n",
              "      <td>3927.68</td>\n",
              "      <td>4044.15</td>\n",
              "      <td>4080.22</td>\n",
              "      <td>...</td>\n",
              "      <td>4593.54</td>\n",
              "      <td>4812.35</td>\n",
              "      <td>4088.0</td>\n",
              "      <td>4077.0</td>\n",
              "      <td>4165.0</td>\n",
              "      <td>4054.0</td>\n",
              "      <td>2844.0</td>\n",
              "      <td>2506.00</td>\n",
              "      <td>2321.92</td>\n",
              "      <td>2284.89</td>\n",
              "    </tr>\n",
              "    <tr>\n",
              "      <th>Zambia</th>\n",
              "      <td>1285.00</td>\n",
              "      <td>1279.75</td>\n",
              "      <td>1308.85</td>\n",
              "      <td>1312.34</td>\n",
              "      <td>1142.20</td>\n",
              "      <td>1180.94</td>\n",
              "      <td>1260.73</td>\n",
              "      <td>1311.36</td>\n",
              "      <td>1308.95</td>\n",
              "      <td>1373.85</td>\n",
              "      <td>...</td>\n",
              "      <td>2743.32</td>\n",
              "      <td>3032.07</td>\n",
              "      <td>3205.0</td>\n",
              "      <td>3350.0</td>\n",
              "      <td>3419.0</td>\n",
              "      <td>3478.0</td>\n",
              "      <td>3478.0</td>\n",
              "      <td>3479.00</td>\n",
              "      <td>3497.58</td>\n",
              "      <td>3534.03</td>\n",
              "    </tr>\n",
              "    <tr>\n",
              "      <th>Zimbabwe</th>\n",
              "      <td>2160.00</td>\n",
              "      <td>2222.26</td>\n",
              "      <td>1971.45</td>\n",
              "      <td>1948.91</td>\n",
              "      <td>2110.71</td>\n",
              "      <td>2102.86</td>\n",
              "      <td>2292.49</td>\n",
              "      <td>2326.54</td>\n",
              "      <td>2369.02</td>\n",
              "      <td>2323.01</td>\n",
              "      <td>...</td>\n",
              "      <td>1285.05</td>\n",
              "      <td>1401.86</td>\n",
              "      <td>1515.0</td>\n",
              "      <td>1604.0</td>\n",
              "      <td>1604.0</td>\n",
              "      <td>1594.0</td>\n",
              "      <td>1560.0</td>\n",
              "      <td>1534.00</td>\n",
              "      <td>1582.37</td>\n",
              "      <td>1611.41</td>\n",
              "    </tr>\n",
              "  </tbody>\n",
              "</table>\n",
              "<p>178 rows × 29 columns</p>\n",
              "</div>\n",
              "      <button class=\"colab-df-convert\" onclick=\"convertToInteractive('df-d982ed59-a964-413c-abef-4c07117bcf29')\"\n",
              "              title=\"Convert this dataframe to an interactive table.\"\n",
              "              style=\"display:none;\">\n",
              "        \n",
              "  <svg xmlns=\"http://www.w3.org/2000/svg\" height=\"24px\"viewBox=\"0 0 24 24\"\n",
              "       width=\"24px\">\n",
              "    <path d=\"M0 0h24v24H0V0z\" fill=\"none\"/>\n",
              "    <path d=\"M18.56 5.44l.94 2.06.94-2.06 2.06-.94-2.06-.94-.94-2.06-.94 2.06-2.06.94zm-11 1L8.5 8.5l.94-2.06 2.06-.94-2.06-.94L8.5 2.5l-.94 2.06-2.06.94zm10 10l.94 2.06.94-2.06 2.06-.94-2.06-.94-.94-2.06-.94 2.06-2.06.94z\"/><path d=\"M17.41 7.96l-1.37-1.37c-.4-.4-.92-.59-1.43-.59-.52 0-1.04.2-1.43.59L10.3 9.45l-7.72 7.72c-.78.78-.78 2.05 0 2.83L4 21.41c.39.39.9.59 1.41.59.51 0 1.02-.2 1.41-.59l7.78-7.78 2.81-2.81c.8-.78.8-2.07 0-2.86zM5.41 20L4 18.59l7.72-7.72 1.47 1.35L5.41 20z\"/>\n",
              "  </svg>\n",
              "      </button>\n",
              "      \n",
              "  <style>\n",
              "    .colab-df-container {\n",
              "      display:flex;\n",
              "      flex-wrap:wrap;\n",
              "      gap: 12px;\n",
              "    }\n",
              "\n",
              "    .colab-df-convert {\n",
              "      background-color: #E8F0FE;\n",
              "      border: none;\n",
              "      border-radius: 50%;\n",
              "      cursor: pointer;\n",
              "      display: none;\n",
              "      fill: #1967D2;\n",
              "      height: 32px;\n",
              "      padding: 0 0 0 0;\n",
              "      width: 32px;\n",
              "    }\n",
              "\n",
              "    .colab-df-convert:hover {\n",
              "      background-color: #E2EBFA;\n",
              "      box-shadow: 0px 1px 2px rgba(60, 64, 67, 0.3), 0px 1px 3px 1px rgba(60, 64, 67, 0.15);\n",
              "      fill: #174EA6;\n",
              "    }\n",
              "\n",
              "    [theme=dark] .colab-df-convert {\n",
              "      background-color: #3B4455;\n",
              "      fill: #D2E3FC;\n",
              "    }\n",
              "\n",
              "    [theme=dark] .colab-df-convert:hover {\n",
              "      background-color: #434B5C;\n",
              "      box-shadow: 0px 1px 3px 1px rgba(0, 0, 0, 0.15);\n",
              "      filter: drop-shadow(0px 1px 2px rgba(0, 0, 0, 0.3));\n",
              "      fill: #FFFFFF;\n",
              "    }\n",
              "  </style>\n",
              "\n",
              "      <script>\n",
              "        const buttonEl =\n",
              "          document.querySelector('#df-d982ed59-a964-413c-abef-4c07117bcf29 button.colab-df-convert');\n",
              "        buttonEl.style.display =\n",
              "          google.colab.kernel.accessAllowed ? 'block' : 'none';\n",
              "\n",
              "        async function convertToInteractive(key) {\n",
              "          const element = document.querySelector('#df-d982ed59-a964-413c-abef-4c07117bcf29');\n",
              "          const dataTable =\n",
              "            await google.colab.kernel.invokeFunction('convertToInteractive',\n",
              "                                                     [key], {});\n",
              "          if (!dataTable) return;\n",
              "\n",
              "          const docLinkHtml = 'Like what you see? Visit the ' +\n",
              "            '<a target=\"_blank\" href=https://colab.research.google.com/notebooks/data_table.ipynb>data table notebook</a>'\n",
              "            + ' to learn more about interactive tables.';\n",
              "          element.innerHTML = '';\n",
              "          dataTable['output_type'] = 'display_data';\n",
              "          await google.colab.output.renderOutput(dataTable, element);\n",
              "          const docLink = document.createElement('div');\n",
              "          docLink.innerHTML = docLinkHtml;\n",
              "          element.appendChild(docLink);\n",
              "        }\n",
              "      </script>\n",
              "    </div>\n",
              "  </div>\n",
              "  "
            ]
          },
          "metadata": {},
          "execution_count": 25
        }
      ]
    },
    {
      "cell_type": "code",
      "source": [
        "# Most recent year only\n",
        "gdp2018 = gdpDF[gdpDF.Year == 2018]\n",
        "\n",
        "gdp2018 = gdp2018.pivot_table(index='Entity', columns='Year', values='GDP per capita')\n",
        "\n",
        "gdp2018 "
      ],
      "metadata": {
        "colab": {
          "base_uri": "https://localhost:8080/",
          "height": 450
        },
        "id": "aOPW0AAj-ZkN",
        "outputId": "8f59e697-85b3-4b27-8976-7527fdd903e2"
      },
      "execution_count": null,
      "outputs": [
        {
          "output_type": "execute_result",
          "data": {
            "text/plain": [
              "Year                   2018\n",
              "Entity                     \n",
              "Afghanistan         1934.56\n",
              "Albania            11104.17\n",
              "Algeria            14228.03\n",
              "Angola              7771.44\n",
              "Argentina          18556.38\n",
              "...                     ...\n",
              "Western Offshoots  53756.50\n",
              "World              15212.42\n",
              "Yemen               2284.89\n",
              "Zambia              3534.03\n",
              "Zimbabwe            1611.41\n",
              "\n",
              "[178 rows x 1 columns]"
            ],
            "text/html": [
              "\n",
              "  <div id=\"df-7cd0a186-b7f9-4be0-81e8-4f8c9de6af08\">\n",
              "    <div class=\"colab-df-container\">\n",
              "      <div>\n",
              "<style scoped>\n",
              "    .dataframe tbody tr th:only-of-type {\n",
              "        vertical-align: middle;\n",
              "    }\n",
              "\n",
              "    .dataframe tbody tr th {\n",
              "        vertical-align: top;\n",
              "    }\n",
              "\n",
              "    .dataframe thead th {\n",
              "        text-align: right;\n",
              "    }\n",
              "</style>\n",
              "<table border=\"1\" class=\"dataframe\">\n",
              "  <thead>\n",
              "    <tr style=\"text-align: right;\">\n",
              "      <th>Year</th>\n",
              "      <th>2018</th>\n",
              "    </tr>\n",
              "    <tr>\n",
              "      <th>Entity</th>\n",
              "      <th></th>\n",
              "    </tr>\n",
              "  </thead>\n",
              "  <tbody>\n",
              "    <tr>\n",
              "      <th>Afghanistan</th>\n",
              "      <td>1934.56</td>\n",
              "    </tr>\n",
              "    <tr>\n",
              "      <th>Albania</th>\n",
              "      <td>11104.17</td>\n",
              "    </tr>\n",
              "    <tr>\n",
              "      <th>Algeria</th>\n",
              "      <td>14228.03</td>\n",
              "    </tr>\n",
              "    <tr>\n",
              "      <th>Angola</th>\n",
              "      <td>7771.44</td>\n",
              "    </tr>\n",
              "    <tr>\n",
              "      <th>Argentina</th>\n",
              "      <td>18556.38</td>\n",
              "    </tr>\n",
              "    <tr>\n",
              "      <th>...</th>\n",
              "      <td>...</td>\n",
              "    </tr>\n",
              "    <tr>\n",
              "      <th>Western Offshoots</th>\n",
              "      <td>53756.50</td>\n",
              "    </tr>\n",
              "    <tr>\n",
              "      <th>World</th>\n",
              "      <td>15212.42</td>\n",
              "    </tr>\n",
              "    <tr>\n",
              "      <th>Yemen</th>\n",
              "      <td>2284.89</td>\n",
              "    </tr>\n",
              "    <tr>\n",
              "      <th>Zambia</th>\n",
              "      <td>3534.03</td>\n",
              "    </tr>\n",
              "    <tr>\n",
              "      <th>Zimbabwe</th>\n",
              "      <td>1611.41</td>\n",
              "    </tr>\n",
              "  </tbody>\n",
              "</table>\n",
              "<p>178 rows × 1 columns</p>\n",
              "</div>\n",
              "      <button class=\"colab-df-convert\" onclick=\"convertToInteractive('df-7cd0a186-b7f9-4be0-81e8-4f8c9de6af08')\"\n",
              "              title=\"Convert this dataframe to an interactive table.\"\n",
              "              style=\"display:none;\">\n",
              "        \n",
              "  <svg xmlns=\"http://www.w3.org/2000/svg\" height=\"24px\"viewBox=\"0 0 24 24\"\n",
              "       width=\"24px\">\n",
              "    <path d=\"M0 0h24v24H0V0z\" fill=\"none\"/>\n",
              "    <path d=\"M18.56 5.44l.94 2.06.94-2.06 2.06-.94-2.06-.94-.94-2.06-.94 2.06-2.06.94zm-11 1L8.5 8.5l.94-2.06 2.06-.94-2.06-.94L8.5 2.5l-.94 2.06-2.06.94zm10 10l.94 2.06.94-2.06 2.06-.94-2.06-.94-.94-2.06-.94 2.06-2.06.94z\"/><path d=\"M17.41 7.96l-1.37-1.37c-.4-.4-.92-.59-1.43-.59-.52 0-1.04.2-1.43.59L10.3 9.45l-7.72 7.72c-.78.78-.78 2.05 0 2.83L4 21.41c.39.39.9.59 1.41.59.51 0 1.02-.2 1.41-.59l7.78-7.78 2.81-2.81c.8-.78.8-2.07 0-2.86zM5.41 20L4 18.59l7.72-7.72 1.47 1.35L5.41 20z\"/>\n",
              "  </svg>\n",
              "      </button>\n",
              "      \n",
              "  <style>\n",
              "    .colab-df-container {\n",
              "      display:flex;\n",
              "      flex-wrap:wrap;\n",
              "      gap: 12px;\n",
              "    }\n",
              "\n",
              "    .colab-df-convert {\n",
              "      background-color: #E8F0FE;\n",
              "      border: none;\n",
              "      border-radius: 50%;\n",
              "      cursor: pointer;\n",
              "      display: none;\n",
              "      fill: #1967D2;\n",
              "      height: 32px;\n",
              "      padding: 0 0 0 0;\n",
              "      width: 32px;\n",
              "    }\n",
              "\n",
              "    .colab-df-convert:hover {\n",
              "      background-color: #E2EBFA;\n",
              "      box-shadow: 0px 1px 2px rgba(60, 64, 67, 0.3), 0px 1px 3px 1px rgba(60, 64, 67, 0.15);\n",
              "      fill: #174EA6;\n",
              "    }\n",
              "\n",
              "    [theme=dark] .colab-df-convert {\n",
              "      background-color: #3B4455;\n",
              "      fill: #D2E3FC;\n",
              "    }\n",
              "\n",
              "    [theme=dark] .colab-df-convert:hover {\n",
              "      background-color: #434B5C;\n",
              "      box-shadow: 0px 1px 3px 1px rgba(0, 0, 0, 0.15);\n",
              "      filter: drop-shadow(0px 1px 2px rgba(0, 0, 0, 0.3));\n",
              "      fill: #FFFFFF;\n",
              "    }\n",
              "  </style>\n",
              "\n",
              "      <script>\n",
              "        const buttonEl =\n",
              "          document.querySelector('#df-7cd0a186-b7f9-4be0-81e8-4f8c9de6af08 button.colab-df-convert');\n",
              "        buttonEl.style.display =\n",
              "          google.colab.kernel.accessAllowed ? 'block' : 'none';\n",
              "\n",
              "        async function convertToInteractive(key) {\n",
              "          const element = document.querySelector('#df-7cd0a186-b7f9-4be0-81e8-4f8c9de6af08');\n",
              "          const dataTable =\n",
              "            await google.colab.kernel.invokeFunction('convertToInteractive',\n",
              "                                                     [key], {});\n",
              "          if (!dataTable) return;\n",
              "\n",
              "          const docLinkHtml = 'Like what you see? Visit the ' +\n",
              "            '<a target=\"_blank\" href=https://colab.research.google.com/notebooks/data_table.ipynb>data table notebook</a>'\n",
              "            + ' to learn more about interactive tables.';\n",
              "          element.innerHTML = '';\n",
              "          dataTable['output_type'] = 'display_data';\n",
              "          await google.colab.output.renderOutput(dataTable, element);\n",
              "          const docLink = document.createElement('div');\n",
              "          docLink.innerHTML = docLinkHtml;\n",
              "          element.appendChild(docLink);\n",
              "        }\n",
              "      </script>\n",
              "    </div>\n",
              "  </div>\n",
              "  "
            ]
          },
          "metadata": {},
          "execution_count": 7
        }
      ]
    },
    {
      "cell_type": "markdown",
      "source": [
        "## Mergin'"
      ],
      "metadata": {
        "id": "CiSFAB2_GOO4"
      }
    },
    {
      "cell_type": "code",
      "source": [
        "# merge speedtest data\n",
        "speedDF = pd.merge(mobileDF, wiredDF, how='outer', on='Country', suffixes=('_mobile','_wired'))\n",
        "\n",
        "speedDF\n",
        "\n",
        "# merge gdp data (most recent year) keeps only countries that have pop data\n",
        "\n",
        "h01DF = pd.merge(speedDF, gdp2018, left_on='Country', right_on='Entity', how='left')\n",
        "\n",
        "h01DF.rename(columns = {2018:'GDP_per_cap'}, inplace = True)\n",
        "\n",
        "# drop countries missing gdp data\n",
        "\n",
        "h01DF = h01DF.dropna(subset=['GDP_per_cap'])\n",
        "\n",
        "# add a column for max dl speed for equal comparison\n",
        "\n",
        "h01DF['mbps_max'] = h01DF[[\"Mbps_mobile\", \"Mbps_wired\"]].max(axis=1)\n",
        "\n",
        "# add a column for assigning which data type is fastest for that country\n",
        "\n",
        "h01DF['fastest_data'] = np.where(h01DF['mbps_max'] == h01DF['Mbps_wired'], 'Wired', 'Mobile')\n",
        "\n",
        "# define the average GDP for the dataset\n",
        "GDP_Avg = h01DF.GDP_per_cap.mean()\n",
        "\n",
        "# \n",
        "\n",
        "h01DF['GDP_rank'] = np.where(h01DF['GDP_per_cap'] >= GDP_Avg, 'Above Average', 'Below Average')\n",
        "\n",
        "h01DF['Mbps_mobile'] = h01DF['Mbps_mobile'].fillna(0)\n",
        "\n",
        "h01DF"
      ],
      "metadata": {
        "colab": {
          "base_uri": "https://localhost:8080/",
          "height": 419
        },
        "id": "44S2uGRzya9F",
        "outputId": "09cad4fc-4411-446e-97c1-9040126c8300"
      },
      "execution_count": null,
      "outputs": [
        {
          "output_type": "execute_result",
          "data": {
            "text/plain": [
              "                  Country  Mbps_mobile  Mbps_wired  GDP_per_cap  mbps_max  \\\n",
              "0    United Arab Emirates       133.51      109.38     76397.82    133.51   \n",
              "1                  Norway       118.58      103.85     84580.14    118.58   \n",
              "2             South Korea       116.51      102.16     37927.61    116.51   \n",
              "3                   Qatar       113.00       74.12    153764.16    113.00   \n",
              "4             Netherlands       107.81      104.55     47474.11    107.81   \n",
              "..                    ...          ...         ...          ...       ...   \n",
              "174               Burundi         0.00        5.64       651.36      5.64   \n",
              "176     Equatorial Guinea         0.00        4.79     28528.95      4.79   \n",
              "177                Guinea         0.00        4.31      1606.47      4.31   \n",
              "178                 Niger         0.00        4.20       964.66      4.20   \n",
              "179          Turkmenistan         0.00        2.05     26318.37      2.05   \n",
              "\n",
              "    fastest_data       GDP_rank  \n",
              "0         Mobile  Above Average  \n",
              "1         Mobile  Above Average  \n",
              "2         Mobile  Above Average  \n",
              "3         Mobile  Above Average  \n",
              "4         Mobile  Above Average  \n",
              "..           ...            ...  \n",
              "174        Wired  Below Average  \n",
              "176        Wired  Above Average  \n",
              "177        Wired  Below Average  \n",
              "178        Wired  Below Average  \n",
              "179        Wired  Above Average  \n",
              "\n",
              "[152 rows x 7 columns]"
            ],
            "text/html": [
              "\n",
              "  <div id=\"df-c2af44b0-593a-4663-b0a8-602154737e4f\">\n",
              "    <div class=\"colab-df-container\">\n",
              "      <div>\n",
              "<style scoped>\n",
              "    .dataframe tbody tr th:only-of-type {\n",
              "        vertical-align: middle;\n",
              "    }\n",
              "\n",
              "    .dataframe tbody tr th {\n",
              "        vertical-align: top;\n",
              "    }\n",
              "\n",
              "    .dataframe thead th {\n",
              "        text-align: right;\n",
              "    }\n",
              "</style>\n",
              "<table border=\"1\" class=\"dataframe\">\n",
              "  <thead>\n",
              "    <tr style=\"text-align: right;\">\n",
              "      <th></th>\n",
              "      <th>Country</th>\n",
              "      <th>Mbps_mobile</th>\n",
              "      <th>Mbps_wired</th>\n",
              "      <th>GDP_per_cap</th>\n",
              "      <th>mbps_max</th>\n",
              "      <th>fastest_data</th>\n",
              "      <th>GDP_rank</th>\n",
              "    </tr>\n",
              "  </thead>\n",
              "  <tbody>\n",
              "    <tr>\n",
              "      <th>0</th>\n",
              "      <td>United Arab Emirates</td>\n",
              "      <td>133.51</td>\n",
              "      <td>109.38</td>\n",
              "      <td>76397.82</td>\n",
              "      <td>133.51</td>\n",
              "      <td>Mobile</td>\n",
              "      <td>Above Average</td>\n",
              "    </tr>\n",
              "    <tr>\n",
              "      <th>1</th>\n",
              "      <td>Norway</td>\n",
              "      <td>118.58</td>\n",
              "      <td>103.85</td>\n",
              "      <td>84580.14</td>\n",
              "      <td>118.58</td>\n",
              "      <td>Mobile</td>\n",
              "      <td>Above Average</td>\n",
              "    </tr>\n",
              "    <tr>\n",
              "      <th>2</th>\n",
              "      <td>South Korea</td>\n",
              "      <td>116.51</td>\n",
              "      <td>102.16</td>\n",
              "      <td>37927.61</td>\n",
              "      <td>116.51</td>\n",
              "      <td>Mobile</td>\n",
              "      <td>Above Average</td>\n",
              "    </tr>\n",
              "    <tr>\n",
              "      <th>3</th>\n",
              "      <td>Qatar</td>\n",
              "      <td>113.00</td>\n",
              "      <td>74.12</td>\n",
              "      <td>153764.16</td>\n",
              "      <td>113.00</td>\n",
              "      <td>Mobile</td>\n",
              "      <td>Above Average</td>\n",
              "    </tr>\n",
              "    <tr>\n",
              "      <th>4</th>\n",
              "      <td>Netherlands</td>\n",
              "      <td>107.81</td>\n",
              "      <td>104.55</td>\n",
              "      <td>47474.11</td>\n",
              "      <td>107.81</td>\n",
              "      <td>Mobile</td>\n",
              "      <td>Above Average</td>\n",
              "    </tr>\n",
              "    <tr>\n",
              "      <th>...</th>\n",
              "      <td>...</td>\n",
              "      <td>...</td>\n",
              "      <td>...</td>\n",
              "      <td>...</td>\n",
              "      <td>...</td>\n",
              "      <td>...</td>\n",
              "      <td>...</td>\n",
              "    </tr>\n",
              "    <tr>\n",
              "      <th>174</th>\n",
              "      <td>Burundi</td>\n",
              "      <td>0.00</td>\n",
              "      <td>5.64</td>\n",
              "      <td>651.36</td>\n",
              "      <td>5.64</td>\n",
              "      <td>Wired</td>\n",
              "      <td>Below Average</td>\n",
              "    </tr>\n",
              "    <tr>\n",
              "      <th>176</th>\n",
              "      <td>Equatorial Guinea</td>\n",
              "      <td>0.00</td>\n",
              "      <td>4.79</td>\n",
              "      <td>28528.95</td>\n",
              "      <td>4.79</td>\n",
              "      <td>Wired</td>\n",
              "      <td>Above Average</td>\n",
              "    </tr>\n",
              "    <tr>\n",
              "      <th>177</th>\n",
              "      <td>Guinea</td>\n",
              "      <td>0.00</td>\n",
              "      <td>4.31</td>\n",
              "      <td>1606.47</td>\n",
              "      <td>4.31</td>\n",
              "      <td>Wired</td>\n",
              "      <td>Below Average</td>\n",
              "    </tr>\n",
              "    <tr>\n",
              "      <th>178</th>\n",
              "      <td>Niger</td>\n",
              "      <td>0.00</td>\n",
              "      <td>4.20</td>\n",
              "      <td>964.66</td>\n",
              "      <td>4.20</td>\n",
              "      <td>Wired</td>\n",
              "      <td>Below Average</td>\n",
              "    </tr>\n",
              "    <tr>\n",
              "      <th>179</th>\n",
              "      <td>Turkmenistan</td>\n",
              "      <td>0.00</td>\n",
              "      <td>2.05</td>\n",
              "      <td>26318.37</td>\n",
              "      <td>2.05</td>\n",
              "      <td>Wired</td>\n",
              "      <td>Above Average</td>\n",
              "    </tr>\n",
              "  </tbody>\n",
              "</table>\n",
              "<p>152 rows × 7 columns</p>\n",
              "</div>\n",
              "      <button class=\"colab-df-convert\" onclick=\"convertToInteractive('df-c2af44b0-593a-4663-b0a8-602154737e4f')\"\n",
              "              title=\"Convert this dataframe to an interactive table.\"\n",
              "              style=\"display:none;\">\n",
              "        \n",
              "  <svg xmlns=\"http://www.w3.org/2000/svg\" height=\"24px\"viewBox=\"0 0 24 24\"\n",
              "       width=\"24px\">\n",
              "    <path d=\"M0 0h24v24H0V0z\" fill=\"none\"/>\n",
              "    <path d=\"M18.56 5.44l.94 2.06.94-2.06 2.06-.94-2.06-.94-.94-2.06-.94 2.06-2.06.94zm-11 1L8.5 8.5l.94-2.06 2.06-.94-2.06-.94L8.5 2.5l-.94 2.06-2.06.94zm10 10l.94 2.06.94-2.06 2.06-.94-2.06-.94-.94-2.06-.94 2.06-2.06.94z\"/><path d=\"M17.41 7.96l-1.37-1.37c-.4-.4-.92-.59-1.43-.59-.52 0-1.04.2-1.43.59L10.3 9.45l-7.72 7.72c-.78.78-.78 2.05 0 2.83L4 21.41c.39.39.9.59 1.41.59.51 0 1.02-.2 1.41-.59l7.78-7.78 2.81-2.81c.8-.78.8-2.07 0-2.86zM5.41 20L4 18.59l7.72-7.72 1.47 1.35L5.41 20z\"/>\n",
              "  </svg>\n",
              "      </button>\n",
              "      \n",
              "  <style>\n",
              "    .colab-df-container {\n",
              "      display:flex;\n",
              "      flex-wrap:wrap;\n",
              "      gap: 12px;\n",
              "    }\n",
              "\n",
              "    .colab-df-convert {\n",
              "      background-color: #E8F0FE;\n",
              "      border: none;\n",
              "      border-radius: 50%;\n",
              "      cursor: pointer;\n",
              "      display: none;\n",
              "      fill: #1967D2;\n",
              "      height: 32px;\n",
              "      padding: 0 0 0 0;\n",
              "      width: 32px;\n",
              "    }\n",
              "\n",
              "    .colab-df-convert:hover {\n",
              "      background-color: #E2EBFA;\n",
              "      box-shadow: 0px 1px 2px rgba(60, 64, 67, 0.3), 0px 1px 3px 1px rgba(60, 64, 67, 0.15);\n",
              "      fill: #174EA6;\n",
              "    }\n",
              "\n",
              "    [theme=dark] .colab-df-convert {\n",
              "      background-color: #3B4455;\n",
              "      fill: #D2E3FC;\n",
              "    }\n",
              "\n",
              "    [theme=dark] .colab-df-convert:hover {\n",
              "      background-color: #434B5C;\n",
              "      box-shadow: 0px 1px 3px 1px rgba(0, 0, 0, 0.15);\n",
              "      filter: drop-shadow(0px 1px 2px rgba(0, 0, 0, 0.3));\n",
              "      fill: #FFFFFF;\n",
              "    }\n",
              "  </style>\n",
              "\n",
              "      <script>\n",
              "        const buttonEl =\n",
              "          document.querySelector('#df-c2af44b0-593a-4663-b0a8-602154737e4f button.colab-df-convert');\n",
              "        buttonEl.style.display =\n",
              "          google.colab.kernel.accessAllowed ? 'block' : 'none';\n",
              "\n",
              "        async function convertToInteractive(key) {\n",
              "          const element = document.querySelector('#df-c2af44b0-593a-4663-b0a8-602154737e4f');\n",
              "          const dataTable =\n",
              "            await google.colab.kernel.invokeFunction('convertToInteractive',\n",
              "                                                     [key], {});\n",
              "          if (!dataTable) return;\n",
              "\n",
              "          const docLinkHtml = 'Like what you see? Visit the ' +\n",
              "            '<a target=\"_blank\" href=https://colab.research.google.com/notebooks/data_table.ipynb>data table notebook</a>'\n",
              "            + ' to learn more about interactive tables.';\n",
              "          element.innerHTML = '';\n",
              "          dataTable['output_type'] = 'display_data';\n",
              "          await google.colab.output.renderOutput(dataTable, element);\n",
              "          const docLink = document.createElement('div');\n",
              "          docLink.innerHTML = docLinkHtml;\n",
              "          element.appendChild(docLink);\n",
              "        }\n",
              "      </script>\n",
              "    </div>\n",
              "  </div>\n",
              "  "
            ]
          },
          "metadata": {},
          "execution_count": 8
        }
      ]
    },
    {
      "cell_type": "markdown",
      "source": [
        "## Hypothesis 1:\n",
        "### Internet speeds have no effect on gdp per capita\n",
        "Do countries who invest in faster internet create stronger economies?\n"
      ],
      "metadata": {
        "id": "fPJyPM7AxZak"
      }
    },
    {
      "cell_type": "markdown",
      "source": [
        "### Visualizations"
      ],
      "metadata": {
        "id": "kAF4OfAeGUIb"
      }
    },
    {
      "cell_type": "markdown",
      "source": [
        "The GDP is normally distributed with a postive skweness."
      ],
      "metadata": {
        "id": "KX0AYnTFIsAD"
      }
    },
    {
      "cell_type": "code",
      "source": [
        "sns.displot(h01DF.GDP_per_cap)"
      ],
      "metadata": {
        "colab": {
          "base_uri": "https://localhost:8080/",
          "height": 71
        },
        "id": "fW1et46OHJXi",
        "outputId": "bdee8b69-375c-44d9-e666-8aa26dd9ba38"
      },
      "execution_count": null,
      "outputs": [
        {
          "output_type": "execute_result",
          "data": {
            "text/plain": [
              "<seaborn.axisgrid.FacetGrid at 0x7f3283d84950>"
            ]
          },
          "metadata": {},
          "execution_count": 9
        },
        {
          "output_type": "display_data",
          "data": {
            "text/plain": [
              "<Figure size 360x360 with 1 Axes>"
            ],
            "image/png": "[encoded data removed]"
          },
          "metadata": {}
        }
      ]
    },
    {
      "cell_type": "markdown",
      "source": [
        "There is a positive correlation between max data speed and GDP."
      ],
      "metadata": {
        "id": "WtJ8bMjcJFua"
      }
    },
    {
      "cell_type": "code",
      "source": [
        "#remove outlier for clearer vis\n",
        "GDPLess100k = h01DF.loc[h01DF.GDP_per_cap < 100000]\n",
        "\n",
        "sns.scatterplot(x='mbps_max', y=GDPLess100k.GDP_per_cap, hue='fastest_data', data= h01DF)"
      ],
      "metadata": {
        "colab": {
          "base_uri": "https://localhost:8080/",
          "height": 71
        },
        "id": "Y0kK_bGxGZJX",
        "outputId": "85b4213a-068a-45ba-8d44-cbb74836c5c1"
      },
      "execution_count": null,
      "outputs": [
        {
          "output_type": "execute_result",
          "data": {
            "text/plain": [
              "<matplotlib.axes._subplots.AxesSubplot at 0x7f3296861410>"
            ]
          },
          "metadata": {},
          "execution_count": 10
        },
        {
          "output_type": "display_data",
          "data": {
            "text/plain": [
              "<Figure size 1008x648 with 1 Axes>"
            ],
            "image/png": "[encoded data removed]"
          },
          "metadata": {}
        }
      ]
    },
    {
      "cell_type": "markdown",
      "source": [
        "### Statistics"
      ],
      "metadata": {
        "id": "-p3tXvD09Jbi"
      }
    },
    {
      "cell_type": "markdown",
      "source": [
        "Comparing above or below average GDP countries, there is a strong correlation to data speed and economic performance.\n",
        "\n",
        "Based on these results we can reject our null hypothesis. Countries with better data speeds usually have better economies."
      ],
      "metadata": {
        "id": "SkNO4_Vt9bVM"
      }
    },
    {
      "cell_type": "code",
      "source": [
        "# Subset data\n",
        "avgOrAboveGDP = h01DF.iloc[(h01DF['GDP_rank'] == \"Above Average\").values]\n",
        "belowAvgGDP = h01DF.iloc[(h01DF['GDP_rank'] == \"Below Average\").values]\n",
        "\n",
        "# Define the groups\n",
        "h01DF.groupby('GDP_rank').describe()\n",
        "\n",
        "# T-TEST\n",
        "stats.ttest_ind(avgOrAboveGDP['mbps_max'], belowAvgGDP['mbps_max'])"
      ],
      "metadata": {
        "colab": {
          "base_uri": "https://localhost:8080/"
        },
        "id": "G1eFX3QLzv35",
        "outputId": "811929ce-8582-467d-a7b6-98866eb79127"
      },
      "execution_count": null,
      "outputs": [
        {
          "output_type": "execute_result",
          "data": {
            "text/plain": [
              "Ttest_indResult(statistic=9.81338266791853, pvalue=7.234835301174049e-18)"
            ]
          },
          "metadata": {},
          "execution_count": 11
        }
      ]
    },
    {
      "cell_type": "markdown",
      "source": [
        "## Hypothesis 2:\n",
        "### Countries that rely on mobile data more have worse economies\n",
        "\n",
        "Based on our previous tests, lets see if countries of different economies rely more on mobile or fixed internet.\n"
      ],
      "metadata": {
        "id": "6SJkorng_ODQ"
      }
    },
    {
      "cell_type": "markdown",
      "source": [
        "### Visualizations"
      ],
      "metadata": {
        "id": "GJbikZlmCyDU"
      }
    },
    {
      "cell_type": "markdown",
      "source": [
        "When looking at the fastest data type for each country, mobile is consistently slower and less varied, while wired is more varied but on average faster."
      ],
      "metadata": {
        "id": "-JpjCnoZDdYd"
      }
    },
    {
      "cell_type": "code",
      "source": [
        "sns.boxplot(\n",
        "    y=\"mbps_max\",\n",
        "    x=\"fastest_data\",\n",
        "    data=h01DF\n",
        ").set(\n",
        "  xlabel='Connection Type', \n",
        "  ylabel='Fastest Speed'\n",
        ")"
      ],
      "metadata": {
        "colab": {
          "base_uri": "https://localhost:8080/",
          "height": 71
        },
        "id": "FLdPmseeB7Gu",
        "outputId": "c66d799d-6af5-4960-8d26-6ae27f694cb2"
      },
      "execution_count": null,
      "outputs": [
        {
          "output_type": "execute_result",
          "data": {
            "text/plain": [
              "[Text(0, 0.5, 'Fastest Speed'), Text(0.5, 0, 'Connection Type')]"
            ]
          },
          "metadata": {},
          "execution_count": 12
        },
        {
          "output_type": "display_data",
          "data": {
            "text/plain": [
              "<Figure size 1008x648 with 1 Axes>"
            ],
            "image/png": "[encoded data removed]"
          },
          "metadata": {}
        }
      ]
    },
    {
      "cell_type": "markdown",
      "source": [
        "Here we can see that lower GDP countries usually rely more on mobile data more than higher GDP countries."
      ],
      "metadata": {
        "id": "KukD5pgmXSCQ"
      }
    },
    {
      "cell_type": "code",
      "source": [
        "sns.histplot(data=h01DF, x=GDPLess100k.GDP_per_cap, hue=\"fastest_data\", multiple=\"stack\", bins = 7)"
      ],
      "metadata": {
        "id": "jEWlzfQKHMHY",
        "colab": {
          "base_uri": "https://localhost:8080/",
          "height": 71
        },
        "outputId": "97c259c1-da44-4ca9-973b-418bf9afa4e2"
      },
      "execution_count": null,
      "outputs": [
        {
          "output_type": "execute_result",
          "data": {
            "text/plain": [
              "<matplotlib.axes._subplots.AxesSubplot at 0x7f3280ec7a50>"
            ]
          },
          "metadata": {},
          "execution_count": 13
        },
        {
          "output_type": "display_data",
          "data": {
            "text/plain": [
              "<Figure size 1008x648 with 1 Axes>"
            ],
            "image/png": "[encoded data removed]"
          },
          "metadata": {}
        }
      ]
    },
    {
      "cell_type": "markdown",
      "source": [
        "To see which countries rely on each connection type lets make a ranking:"
      ],
      "metadata": {
        "id": "rEFSy8G1XB2S"
      }
    },
    {
      "cell_type": "code",
      "source": [
        "# add calculated field for speed disparity.\n",
        "# countries with high mobile data and low broadband data will be ranked at the top.\n",
        "# a negative result means that country relies more or almost entirely on wired data.\n",
        "\n",
        "h01DF['mobileSpeedDisparity'] = h01DF[\"Mbps_mobile\"] - h01DF[\"Mbps_wired\"]"
      ],
      "metadata": {
        "id": "z0zfrGoYVaZb"
      },
      "execution_count": null,
      "outputs": []
    },
    {
      "cell_type": "markdown",
      "source": [
        "Countries with more reliance on mobile data instead of wired data don't seem to have a large difference in GDP rank and below average companies seem to have a larger reliance on mobile data."
      ],
      "metadata": {
        "id": "ylTzmcE4X6_G"
      }
    },
    {
      "cell_type": "code",
      "source": [
        "sns.boxplot(y='mobileSpeedDisparity', x='GDP_rank', data=h01DF)"
      ],
      "metadata": {
        "colab": {
          "base_uri": "https://localhost:8080/",
          "height": 71
        },
        "id": "xzTS0RXSYBjb",
        "outputId": "98ba8111-4f30-4fd2-fcad-feb66da2b980"
      },
      "execution_count": null,
      "outputs": [
        {
          "output_type": "execute_result",
          "data": {
            "text/plain": [
              "<matplotlib.axes._subplots.AxesSubplot at 0x7f3280e23b10>"
            ]
          },
          "metadata": {},
          "execution_count": 15
        },
        {
          "output_type": "display_data",
          "data": {
            "text/plain": [
              "<Figure size 1008x648 with 1 Axes>"
            ],
            "image/png": "[encoded data removed]"
          },
          "metadata": {}
        }
      ]
    },
    {
      "cell_type": "code",
      "source": [
        ""
      ],
      "metadata": {
        "id": "MfY7KnYqan2_"
      },
      "execution_count": null,
      "outputs": []
    },
    {
      "cell_type": "markdown",
      "source": [
        "### Statistics"
      ],
      "metadata": {
        "id": "fQugBiN2DMw6"
      }
    },
    {
      "cell_type": "markdown",
      "source": [
        "Mobile data seems to have the strongest correlation to GDP per capita with a value of 0.763.\n",
        "\n",
        "However, countries that rely mostly or entirely on mobile data actually have a negative correlation. (-0.104"
      ],
      "metadata": {
        "id": "0grHFH-BAXBW"
      }
    },
    {
      "cell_type": "code",
      "source": [
        "#pearsonr corr of GDP per capita\n",
        "\n",
        "GDPcorr = h01DF.corrwith(h01DF['GDP_per_cap'])\n",
        "\n",
        "GDPcorr.sort_values(ascending = False)"
      ],
      "metadata": {
        "colab": {
          "base_uri": "https://localhost:8080/"
        },
        "outputId": "a7c68327-7783-4a44-831a-1586d52bacf3",
        "id": "aCZ2XWHrAXBZ"
      },
      "execution_count": null,
      "outputs": [
        {
          "output_type": "execute_result",
          "data": {
            "text/plain": [
              "GDP_per_cap             1.000000\n",
              "Mbps_mobile             0.762170\n",
              "mbps_max                0.636595\n",
              "Mbps_wired              0.585859\n",
              "mobileSpeedDisparity   -0.104019\n",
              "dtype: float64"
            ]
          },
          "metadata": {},
          "execution_count": 16
        }
      ]
    },
    {
      "cell_type": "markdown",
      "source": [
        "Testing for significance we can say with strong confidence that countries that rely more on mobile data have worse economies.\n",
        "\n",
        "Failed to reject the null hypothesis."
      ],
      "metadata": {
        "id": "SACACr7Rffkx"
      }
    },
    {
      "cell_type": "code",
      "source": [
        "stats.ttest_ind(h01DF['mobileSpeedDisparity'], h01DF['GDP_per_cap'])"
      ],
      "metadata": {
        "colab": {
          "base_uri": "https://localhost:8080/"
        },
        "id": "Ni4FBMJ_fHGD",
        "outputId": "b7ae6efc-72fd-49ab-b327-0272d9129cb1"
      },
      "execution_count": null,
      "outputs": [
        {
          "output_type": "execute_result",
          "data": {
            "text/plain": [
              "Ttest_indResult(statistic=-11.842434871688488, pvalue=7.836927174050226e-27)"
            ]
          },
          "metadata": {},
          "execution_count": 17
        }
      ]
    },
    {
      "cell_type": "markdown",
      "source": [
        "## Conclusion\n",
        " \n",
        "I think that the correlations we found were insightful. Without a shadow of a doubt, the internet is important to a country's economy. Without reliable internet it's much more difficult for communities to work together and for businesses to thrive.\n",
        " \n",
        "Some of the assumptions I had going in were proven to be wrong. Data speed and economic performance are closely correlated, and countries that rely more on mobile data on average have less advanced economies.\n",
        " \n",
        "## Recommendations\n",
        " \n",
        "Based on these findings I'd recommend a combined approach for lower economic countries, focusing on mobile and fixed broadband connections. This will result in bolstering the country's economy. This data can easily be used to advocate for government subsidization of internet connections.\n",
        " \n",
        "For higher GDP countries focusing on more premium mobile speeds seems to be the most intuitive action. I believe these faster speeds are due to several factors like distance to cell towers, and user device quality.\n",
        " \n",
        "## Next steps\n",
        " \n",
        "I would love to find a dataset just like this for speeds over time. That way I could compare economies and internet speeds overtime and see which effects the other even clearer. I'd also like to compare population size and population density, but I could not find a dataset that could be easily joined."
      ],
      "metadata": {
        "id": "g3hxOsw01AHk"
      }
    }
  ]
}